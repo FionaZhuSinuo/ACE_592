{
 "cells": [
  {
   "cell_type": "markdown",
   "metadata": {
    "slideshow": {
     "slide_type": "slide"
    }
   },
   "source": [
    "# Wildfires in the US\n",
    "## An Application of Geopandas, Rasterio, and Zonalstats"
   ]
  },
  {
   "cell_type": "code",
   "execution_count": null,
   "metadata": {
    "slideshow": {
     "slide_type": "-"
    }
   },
   "outputs": [],
   "source": [
    "import numpy\n",
    "import matplotlib.pyplot as plt\n",
    "import geopandas\n",
    "import pyproj\n",
    "import rasterio\n",
    "import rasterstats"
   ]
  },
  {
   "cell_type": "code",
   "execution_count": null,
   "metadata": {},
   "outputs": [],
   "source": [
    "data_dir = \"C:/Users/jhtchns2/Box/ACE 592 SAE Spring 2022/Class Examples/2_Images/\""
   ]
  },
  {
   "cell_type": "markdown",
   "metadata": {
    "slideshow": {
     "slide_type": "slide"
    }
   },
   "source": [
    "The objective of this lecture is to demonstrate how to:\n",
    "1. Read shape files.\n",
    "2. Read and edit rasters.\n",
    "3. Calculate zonal stats from:\n",
    "    - A raster and a shape file\n",
    "    - A shape file and a shape file\n"
   ]
  },
  {
   "cell_type": "markdown",
   "metadata": {
    "slideshow": {
     "slide_type": "slide"
    }
   },
   "source": [
    "## Step 1: Reading shape files\n",
    "\n",
    "### US States\n",
    "Below is a geojson file of US states which is read into the dataframe as a geopandas dataframe"
   ]
  },
  {
   "cell_type": "code",
   "execution_count": null,
   "metadata": {
    "slideshow": {
     "slide_type": "-"
    }
   },
   "outputs": [],
   "source": [
    "state_file = data_dir + \"us_states.json\"\n",
    "\n",
    "country = geopandas.read_file(state_file)"
   ]
  },
  {
   "cell_type": "markdown",
   "metadata": {
    "slideshow": {
     "slide_type": "slide"
    }
   },
   "source": [
    "What is a geopandas dataframe?\n",
    "\n",
    "Essentially, it is the same as a pandas dataframe but with geographic methods. For example:\n",
    "- It has a column called \"geometry\" which stores a `shapely` polygon or multi-polygon object.\n",
    "- Has geographic information embedded (like the CRS).\n",
    "- Default plot method makes a spatial plot."
   ]
  },
  {
   "cell_type": "code",
   "execution_count": null,
   "metadata": {
    "scrolled": true,
    "slideshow": {
     "slide_type": "slide"
    }
   },
   "outputs": [],
   "source": [
    "country.head()"
   ]
  },
  {
   "cell_type": "code",
   "execution_count": null,
   "metadata": {
    "slideshow": {
     "slide_type": "slide"
    }
   },
   "outputs": [],
   "source": [
    "print(type(country['geometry'][4]))\n",
    "country['geometry'][4]"
   ]
  },
  {
   "cell_type": "code",
   "execution_count": null,
   "metadata": {
    "slideshow": {
     "slide_type": "slide"
    }
   },
   "outputs": [],
   "source": [
    "country.crs"
   ]
  },
  {
   "cell_type": "code",
   "execution_count": null,
   "metadata": {
    "slideshow": {
     "slide_type": "slide"
    }
   },
   "outputs": [],
   "source": [
    "country.plot()"
   ]
  },
  {
   "cell_type": "markdown",
   "metadata": {
    "slideshow": {
     "slide_type": "-"
    }
   },
   "source": [
    "The frame is a bit big. What if we just wanted to look at the continental US?\n",
    "\n",
    "Do what you would do usually with a Pandas dataframe!"
   ]
  },
  {
   "cell_type": "code",
   "execution_count": null,
   "metadata": {
    "slideshow": {
     "slide_type": "slide"
    }
   },
   "outputs": [],
   "source": [
    "country = country[~country['NAME'].isin([\"Alaska\",\"Hawaii\",\"Puerto Rico\"])]\n",
    "\n",
    "country.plot(color=\"Grey\")"
   ]
  },
  {
   "cell_type": "markdown",
   "metadata": {
    "slideshow": {
     "slide_type": "slide"
    }
   },
   "source": [
    "These dataframes have very useful methods and attributes:\n",
    "- `centroid`, which can extract the centroid from the shape.\n",
    "- `to_crs()`, which can change the projection.\n",
    "- `distance()`, which can tell you the distance between each row and a specific geometry.\n",
    "\n",
    "Let's use these methods to find the distance between the Alabama centroid and every other state centroid."
   ]
  },
  {
   "cell_type": "code",
   "execution_count": null,
   "metadata": {
    "scrolled": true,
    "slideshow": {
     "slide_type": "slide"
    }
   },
   "outputs": [],
   "source": [
    "f,a = plt.subplots()\n",
    "country.plot(ax=a)\n",
    "country.centroid.plot(ax=a,color=\"white\")"
   ]
  },
  {
   "cell_type": "markdown",
   "metadata": {
    "slideshow": {
     "slide_type": "-"
    }
   },
   "source": [
    "User warning! What did we do wrong?"
   ]
  },
  {
   "cell_type": "code",
   "execution_count": null,
   "metadata": {
    "slideshow": {
     "slide_type": "slide"
    }
   },
   "outputs": [],
   "source": [
    "country_proj = country.to_crs(epsg=4087) # WGS 84 Equidistant Cylndrical\n",
    "country_proj.plot()"
   ]
  },
  {
   "cell_type": "code",
   "execution_count": null,
   "metadata": {
    "scrolled": true,
    "slideshow": {
     "slide_type": "slide"
    }
   },
   "outputs": [],
   "source": [
    "country_proj.centroid"
   ]
  },
  {
   "cell_type": "code",
   "execution_count": null,
   "metadata": {
    "slideshow": {
     "slide_type": "slide"
    }
   },
   "outputs": [],
   "source": [
    "f,a = plt.subplots(figsize=(10,4))\n",
    "country_proj.plot(ax=a,zorder=1,color='gray')\n",
    "country_proj.centroid.plot(ax=a,color=\"white\",markersize=5)"
   ]
  },
  {
   "cell_type": "markdown",
   "metadata": {
    "slideshow": {
     "slide_type": "slide"
    }
   },
   "source": [
    "The `distance` function works on a series, but requires a geometry object to be passed right to the function."
   ]
  },
  {
   "cell_type": "code",
   "execution_count": null,
   "metadata": {},
   "outputs": [],
   "source": [
    "bama_cent = country_proj.centroid[0]"
   ]
  },
  {
   "cell_type": "code",
   "execution_count": null,
   "metadata": {
    "slideshow": {
     "slide_type": "-"
    }
   },
   "outputs": [],
   "source": [
    "country_proj['bama_dist'] = country_proj.centroid.distance(bama_cent)/1000 # res is in meters, so converting to km\n",
    "country_proj.sort_values(\"bama_dist\").head()"
   ]
  },
  {
   "cell_type": "code",
   "execution_count": null,
   "metadata": {
    "slideshow": {
     "slide_type": "slide"
    }
   },
   "outputs": [],
   "source": [
    "f,a = plt.subplots(figsize=(15,5))\n",
    "country_proj.plot(column=\"bama_dist\", # The data it uses to assign colors\n",
    "                  ax=a,\\\n",
    "                  legend=True,\\\n",
    "                  legend_kwds={'label': \"Centroid Distance (km)\"});\n",
    "country_proj.centroid[:1].plot(color=\"C3\",ax=a,markersize=10);\n",
    "country_proj.centroid[1:].plot(color=\"w\",ax=a,markersize=5);\n",
    "\n",
    "plt.axis(\"off\");\n",
    "plt.title(\"State Centroid Distance from Alabama\")\n"
   ]
  },
  {
   "cell_type": "markdown",
   "metadata": {
    "slideshow": {
     "slide_type": "slide"
    }
   },
   "source": [
    "### Notice:\n",
    "Some cool functionality of the plotting function is that it has built in ability to do chloropleth maps very easily!\n",
    "\n",
    "Going back to the code that I just wrote:"
   ]
  },
  {
   "cell_type": "code",
   "execution_count": null,
   "metadata": {
    "slideshow": {
     "slide_type": "slide"
    }
   },
   "outputs": [],
   "source": [
    "f,a = plt.subplots(figsize=(7,6))\n",
    "country_proj.plot(column=\"bama_dist\", # the column argument colors states by the value of that column.\n",
    "                  ax=a,\n",
    "                  cmap=\"viridis\", # set your own colormap.\n",
    "                  legend=True, # setting the legend as true leads to a color bar being plotted.\n",
    "                  legend_kwds={'label': \"Centroid Distance (km)\",# this labels it.\n",
    "                               'orientation': \"horizontal\"}); # this changes the orientation.\n",
    "plt.axis(\"off\");\n",
    "plt.savefig(\"war_eagle_roll_tide.png\")"
   ]
  },
  {
   "cell_type": "markdown",
   "metadata": {
    "slideshow": {
     "slide_type": "slide"
    }
   },
   "source": [
    "## Wildfires\n",
    "To demonstrate spatial joins, let's say we want to look at wildfires. NASA keeps a very [nice database on active fires](https://firms.modaps.eosdis.nasa.gov/active_fire/#firms-shapefile).\n",
    "\n",
    "This one is a shapefile from NASA which was callected using their MODIS instrument. These are all the fires from October 20th 2020 until October 27th 2020."
   ]
  },
  {
   "cell_type": "code",
   "execution_count": null,
   "metadata": {
    "slideshow": {
     "slide_type": "slide"
    }
   },
   "outputs": [],
   "source": [
    "fires = geopandas.read_file(\"../../Data/Images/MODIS_C6_USA_contiguous_and_Hawaii_7d/MODIS_C6_USA_contiguous_and_Hawaii_7d.shp\")\n",
    "fires.head()"
   ]
  },
  {
   "cell_type": "markdown",
   "metadata": {
    "slideshow": {
     "slide_type": "slide"
    }
   },
   "source": [
    "Before we go plotting them together, let's do a projection check.\n",
    "\n",
    "#### Projection check"
   ]
  },
  {
   "cell_type": "code",
   "execution_count": null,
   "metadata": {
    "slideshow": {
     "slide_type": "-"
    }
   },
   "outputs": [],
   "source": [
    "country.crs == fires.crs"
   ]
  },
  {
   "cell_type": "markdown",
   "metadata": {
    "slideshow": {
     "slide_type": "-"
    }
   },
   "source": [
    "We're good to go!"
   ]
  },
  {
   "cell_type": "markdown",
   "metadata": {
    "slideshow": {
     "slide_type": "slide"
    }
   },
   "source": [
    "Notice that instead of \"polygons,\" we have \"point\" objects.\n",
    "\n",
    "If we plot them on top of each other we get this:"
   ]
  },
  {
   "cell_type": "code",
   "execution_count": null,
   "metadata": {
    "slideshow": {
     "slide_type": "slide"
    }
   },
   "outputs": [],
   "source": [
    "f,a = plt.subplots(figsize=(20,20))\n",
    "country.plot(ax=a,color=\"grey\")\n",
    "fires.plot(color=\"C3\",markersize=10,ax=a)"
   ]
  },
  {
   "cell_type": "markdown",
   "metadata": {
    "slideshow": {
     "slide_type": "slide"
    }
   },
   "source": [
    "So notice that our fire data is in Mexico as well as Canada. How do we only look at fires in the US?\n",
    "\n",
    "Intuitively, we look for the overlap. Restricting a shape file based on another shapefile is called __clipping__.\n",
    "\n",
    "Geopandas has a great clipping function: "
   ]
  },
  {
   "cell_type": "code",
   "execution_count": null,
   "metadata": {
    "slideshow": {
     "slide_type": "-"
    }
   },
   "outputs": [],
   "source": [
    "print(fires.shape)\n",
    "print(geopandas.clip(fires,country).shape)"
   ]
  },
  {
   "cell_type": "markdown",
   "metadata": {
    "slideshow": {
     "slide_type": "slide"
    }
   },
   "source": [
    "The first argument is the thing you want clipped, the second argument is the mask used to clip it.\n",
    "\n",
    "So it looks like clipping got rid of about 500 fires."
   ]
  },
  {
   "cell_type": "code",
   "execution_count": null,
   "metadata": {
    "slideshow": {
     "slide_type": "-"
    }
   },
   "outputs": [],
   "source": [
    "fires = geopandas.clip(fires,country)\n",
    "\n",
    "f,a = plt.subplots(figsize=(20,20))\n",
    "country.plot(ax=a,color=\"grey\")\n",
    "fires.plot(color=\"C3\",markersize=10,ax=a);"
   ]
  },
  {
   "cell_type": "markdown",
   "metadata": {
    "slideshow": {
     "slide_type": "slide"
    }
   },
   "source": [
    "Using the geopandas plotting function, we can actually color the dots according to one of the variables.\n",
    "\n",
    "We will do it here according to the column \"brightness.\""
   ]
  },
  {
   "cell_type": "code",
   "execution_count": null,
   "metadata": {
    "slideshow": {
     "slide_type": "-"
    }
   },
   "outputs": [],
   "source": [
    "f,a = plt.subplots(figsize=(20,10))\n",
    "\n",
    "country.plot(ax=a,color=\"grey\")\n",
    "\n",
    "geopandas.clip(fires,country).plot(markersize=10, # set the markersize \n",
    "                                   ax=a, # use the current axis we created\n",
    "                                   column='BRIGHTNESS', #column to use\n",
    "                                   cmap=\"OrRd\", # colormap to use\n",
    "                                   scheme='quantiles', # this keyword breaks the categories on quantiles.\n",
    "                                   legend=True); # show a legend"
   ]
  },
  {
   "cell_type": "markdown",
   "metadata": {
    "slideshow": {
     "slide_type": "slide"
    }
   },
   "source": [
    "### What is a spatial join?\n",
    "Spatial joining is essentially executing a merge between two shapefiles. Instead of using indexes it uses their spatial positions.\n",
    "\n",
    "For example, what if we wanted to count the number of fires in a given state?"
   ]
  },
  {
   "cell_type": "code",
   "execution_count": null,
   "metadata": {
    "slideshow": {
     "slide_type": "-"
    }
   },
   "outputs": [],
   "source": [
    "fires_w_state = geopandas.sjoin(fires,\\\n",
    "                                country,\\\n",
    "                                how='left')\n",
    "\n",
    "state_w_fires = geopandas.sjoin(fires,\\\n",
    "                                country,\\\n",
    "                                how='right')\n",
    "\n",
    "fires_w_state.shape, state_w_fires.shape\n"
   ]
  },
  {
   "cell_type": "markdown",
   "metadata": {
    "slideshow": {
     "slide_type": "-"
    }
   },
   "source": [
    "They look about the same size, what was the difference between the left and right merge?"
   ]
  },
  {
   "cell_type": "code",
   "execution_count": null,
   "metadata": {
    "slideshow": {
     "slide_type": "slide"
    }
   },
   "outputs": [],
   "source": [
    "fires_w_state.head().geometry, state_w_fires.head().geometry"
   ]
  },
  {
   "cell_type": "markdown",
   "metadata": {
    "slideshow": {
     "slide_type": "-"
    }
   },
   "source": [
    "With spatial joins in geopandas dataframes, only one set of geometry will be retained. So make sure you understand how you are merging things!"
   ]
  },
  {
   "cell_type": "markdown",
   "metadata": {
    "slideshow": {
     "slide_type": "slide"
    }
   },
   "source": [
    "Both of these dataframes could be useful in different ways."
   ]
  },
  {
   "cell_type": "code",
   "execution_count": null,
   "metadata": {
    "slideshow": {
     "slide_type": "-"
    }
   },
   "outputs": [],
   "source": [
    "f,a = plt.subplots(figsize=(20,10))\n",
    "country.plot(color='gray',ax=a)\n",
    "fires_w_state.plot(column=\"CENSUSAREA\",ax=a)\n",
    "plt.title(\"Fires Colored by Census Area\")"
   ]
  },
  {
   "cell_type": "markdown",
   "metadata": {
    "slideshow": {
     "slide_type": "slide"
    }
   },
   "source": [
    "Let's get a count of fires per state."
   ]
  },
  {
   "cell_type": "code",
   "execution_count": null,
   "metadata": {
    "slideshow": {
     "slide_type": "-"
    }
   },
   "outputs": [],
   "source": [
    "state_w_fires.groupby(\"NAME\")['index_left'].count().head()"
   ]
  },
  {
   "cell_type": "code",
   "execution_count": null,
   "metadata": {
    "slideshow": {
     "slide_type": "slide"
    }
   },
   "outputs": [],
   "source": [
    "state_fire_counts = state_w_fires.groupby(\"NAME\")['index_left'].count().reset_index()\n",
    "\n",
    "state_fire_counts.columns = [\"NAME\",\"fire_number\"]\n",
    "\n",
    "state_fire_counts.head()"
   ]
  },
  {
   "cell_type": "code",
   "execution_count": null,
   "metadata": {
    "slideshow": {
     "slide_type": "slide"
    }
   },
   "outputs": [],
   "source": [
    "country = country.merge(state_fire_counts,how='left')"
   ]
  },
  {
   "cell_type": "code",
   "execution_count": null,
   "metadata": {
    "slideshow": {
     "slide_type": "-"
    }
   },
   "outputs": [],
   "source": [
    "f,a = plt.subplots(figsize=(20,10))\n",
    "country.plot(column=\"fire_number\",\n",
    "             ax=a,\n",
    "             cmap=\"OrRd\",\n",
    "            legend=True)"
   ]
  },
  {
   "cell_type": "markdown",
   "metadata": {
    "slideshow": {
     "slide_type": "slide"
    }
   },
   "source": [
    "California and Colorado are clear outliers, could use the quantile method instead."
   ]
  },
  {
   "cell_type": "code",
   "execution_count": null,
   "metadata": {
    "slideshow": {
     "slide_type": "-"
    }
   },
   "outputs": [],
   "source": [
    "f,a = plt.subplots(figsize=(20,10))\n",
    "country.plot(column=\"fire_number\",\n",
    "             ax=a,\n",
    "             cmap=\"OrRd\",\n",
    "            scheme=\"quantiles\",\n",
    "            legend=True)"
   ]
  },
  {
   "cell_type": "markdown",
   "metadata": {
    "slideshow": {
     "slide_type": "slide"
    }
   },
   "source": [
    "### Dissolves\n",
    "\n",
    "What if we wanted to merge polygons into one polygons? This is called a __dissolve__.\n",
    "\n",
    "Geopandas make this very easy."
   ]
  },
  {
   "cell_type": "code",
   "execution_count": null,
   "metadata": {
    "slideshow": {
     "slide_type": "-"
    }
   },
   "outputs": [],
   "source": [
    "country['country'] = \"USA\"\n",
    "\n",
    "country.dissolve(by=\"country\",aggfunc=\"sum\").plot()"
   ]
  },
  {
   "cell_type": "markdown",
   "metadata": {
    "slideshow": {
     "slide_type": "-"
    }
   },
   "source": [
    "So now we have dissolved all of the states into one polygon. Dissolves are useful when you want to change the level of analysis."
   ]
  },
  {
   "cell_type": "markdown",
   "metadata": {
    "slideshow": {
     "slide_type": "slide"
    }
   },
   "source": [
    "## Step 2: Read in rasters"
   ]
  },
  {
   "cell_type": "markdown",
   "metadata": {
    "slideshow": {
     "slide_type": "slide"
    }
   },
   "source": [
    " Let's read in a raster file, in this case annual precipitation data from 2017 from [PRISM](https://prism.oregonstate.edu/recent/), a great source of historical weather data. \n",
    " \n",
    " The package for reading in raster files is called `rasterio`"
   ]
  },
  {
   "cell_type": "code",
   "execution_count": null,
   "metadata": {
    "slideshow": {
     "slide_type": "-"
    }
   },
   "outputs": [],
   "source": [
    "import rasterio\n",
    "\n",
    "raster_file = \"../../Data/Images/Prism_ppt/PRISM_ppt_stable_4kmM3_2017_bil.bil\"\n",
    "\n",
    "raster = rasterio.open(raster_file)"
   ]
  },
  {
   "cell_type": "code",
   "execution_count": null,
   "metadata": {},
   "outputs": [],
   "source": [
    "plt.imshow(raster.read()[0,:,:])"
   ]
  },
  {
   "cell_type": "markdown",
   "metadata": {
    "slideshow": {
     "slide_type": "-"
    }
   },
   "source": [
    "In this case, the file format is a .bil not a .tif"
   ]
  },
  {
   "cell_type": "markdown",
   "metadata": {
    "slideshow": {
     "slide_type": "slide"
    }
   },
   "source": [
    "#### Projection check:"
   ]
  },
  {
   "cell_type": "code",
   "execution_count": null,
   "metadata": {
    "slideshow": {
     "slide_type": "-"
    }
   },
   "outputs": [],
   "source": [
    "raster.crs==country_proj.crs"
   ]
  },
  {
   "cell_type": "markdown",
   "metadata": {
    "slideshow": {
     "slide_type": "slide"
    }
   },
   "source": [
    "So this is not what our shapefile currently is because we reprojected it...\n",
    "\n",
    "Two ways we can go about this:\n",
    "1. Reproject the raster file to match the shapefile (harder).\n",
    "2. Reproject the shapefile to match the raster (easier).\n",
    "\n",
    "It takes only one line to reproject geopandas dataframes, but much more code to do the same for rasterio. Here I'll demonstrate the raster way."
   ]
  },
  {
   "cell_type": "markdown",
   "metadata": {
    "slideshow": {
     "slide_type": "slide"
    }
   },
   "source": [
    "So what is the raster object anyway?"
   ]
  },
  {
   "cell_type": "code",
   "execution_count": null,
   "metadata": {
    "slideshow": {
     "slide_type": "-"
    }
   },
   "outputs": [],
   "source": [
    "raster.width,raster.height,raster.bounds"
   ]
  },
  {
   "cell_type": "markdown",
   "metadata": {
    "slideshow": {
     "slide_type": "slide"
    }
   },
   "source": [
    "Notice that it is almost the same as a numpy array but it embeds geographic information. The function `read` will transform it into a numpy array."
   ]
  },
  {
   "cell_type": "code",
   "execution_count": null,
   "metadata": {
    "slideshow": {
     "slide_type": "-"
    }
   },
   "outputs": [],
   "source": [
    "type(raster.read()),raster.read().shape"
   ]
  },
  {
   "cell_type": "markdown",
   "metadata": {
    "slideshow": {
     "slide_type": "-"
    }
   },
   "source": [
    "How can we use this info to translate it into a different coordinate system?"
   ]
  },
  {
   "cell_type": "code",
   "execution_count": null,
   "metadata": {
    "slideshow": {
     "slide_type": "-"
    }
   },
   "outputs": [],
   "source": [
    "raster.transform"
   ]
  },
  {
   "attachments": {
    "image.png": {
     "image/png": "[encoded data removed]"
    }
   },
   "cell_type": "markdown",
   "metadata": {
    "slideshow": {
     "slide_type": "slide"
    }
   },
   "source": [
    "Each raster contains an \"affine transformation\" which translates the pixel coordinates into geographic coordinates.\n",
    "\n",
    "According to the docs, the above are coefficients to this equation:\n",
    "\n",
    "![image.png](attachment:image.png)"
   ]
  },
  {
   "cell_type": "markdown",
   "metadata": {
    "slideshow": {
     "slide_type": "slide"
    }
   },
   "source": [
    "### Reprojecting a Raster\n",
    "\n",
    "Essentially, we need to create a function that translates one \"transformation\" into another. We need to take the measurements of the first system and create a function that translates into a new system.\n",
    "\n",
    "Now let's look at some code from [this question](https://gis.stackexchange.com/questions/337528/rasterio-reprojection-doesnt-seem-to-work]):"
   ]
  },
  {
   "cell_type": "code",
   "execution_count": null,
   "metadata": {
    "slideshow": {
     "slide_type": "-"
    }
   },
   "outputs": [],
   "source": [
    "import numpy as np\n",
    "import rasterio\n",
    "from rasterio.warp import calculate_default_transform, reproject, Resampling\n",
    "import geopandas\n",
    "\n",
    "src_file = raster_file\n",
    "dst_file = 'ppt_reproj.tif'\n",
    "dst_crs = rasterio.crs.CRS.from_dict({'init': 'EPSG:4087'})"
   ]
  },
  {
   "cell_type": "markdown",
   "metadata": {
    "slideshow": {
     "slide_type": "slide"
    }
   },
   "source": [
    "The following code does the reprojection... but what is it actually doing?"
   ]
  },
  {
   "cell_type": "code",
   "execution_count": null,
   "metadata": {
    "slideshow": {
     "slide_type": "-"
    }
   },
   "outputs": [],
   "source": [
    "with rasterio.open(src_file) as src: \n",
    "    transform, width, height = calculate_default_transform(\n",
    "        src.crs, dst_crs, src.width, src.height, *src.bounds) \n",
    "    kwargs = src.meta.copy() \n",
    "    kwargs.update({\n",
    "        'crs': dst_crs,\n",
    "        'transform': transform,\n",
    "        'width': width,\n",
    "        'height': height\n",
    "    })\n",
    "    with rasterio.open(dst_file, 'w', **kwargs) as dst: \n",
    "        for i in range(1, src.count + 1):\n",
    "            reproject(\n",
    "                source=rasterio.band(src, i),\n",
    "                destination=rasterio.band(dst, i),\n",
    "                src_transform=src.transform,\n",
    "                src_crs=src.crs,\n",
    "                dst_transform=transform,\n",
    "                dst_crs=dst_crs,\n",
    "                resampling=Resampling.nearest)"
   ]
  },
  {
   "cell_type": "markdown",
   "metadata": {
    "slideshow": {
     "slide_type": "-"
    }
   },
   "source": [
    "\n",
    "### Discuss in groups!"
   ]
  },
  {
   "cell_type": "code",
   "execution_count": null,
   "metadata": {
    "slideshow": {
     "slide_type": "slide"
    }
   },
   "outputs": [],
   "source": [
    "raster = rasterio.open(\"./ppt_reproj.tif\")\n",
    "\n",
    "raster.crs"
   ]
  },
  {
   "cell_type": "code",
   "execution_count": null,
   "metadata": {
    "slideshow": {
     "slide_type": "-"
    }
   },
   "outputs": [],
   "source": [
    "ppt = raster.read(1)\n",
    "\n",
    "ppt"
   ]
  },
  {
   "cell_type": "markdown",
   "metadata": {
    "slideshow": {
     "slide_type": "slide"
    }
   },
   "source": [
    "So now we have a Numpy array. Here's what it looks like plotted:"
   ]
  },
  {
   "cell_type": "code",
   "execution_count": null,
   "metadata": {
    "slideshow": {
     "slide_type": "-"
    }
   },
   "outputs": [],
   "source": [
    "plt.imshow(ppt,cmap=\"Blues\")"
   ]
  },
  {
   "cell_type": "markdown",
   "metadata": {
    "slideshow": {
     "slide_type": "slide"
    }
   },
   "source": [
    "##### Reminder\n",
    "\n",
    "the difference between a raster and a usual numpy array is that rasters are georeferenced. So rasters have info like this:"
   ]
  },
  {
   "cell_type": "code",
   "execution_count": null,
   "metadata": {
    "slideshow": {
     "slide_type": "-"
    }
   },
   "outputs": [],
   "source": [
    "raster.crs"
   ]
  },
  {
   "cell_type": "code",
   "execution_count": null,
   "metadata": {
    "slideshow": {
     "slide_type": "-"
    }
   },
   "outputs": [],
   "source": [
    "raster.bounds"
   ]
  },
  {
   "cell_type": "markdown",
   "metadata": {
    "slideshow": {
     "slide_type": "-"
    }
   },
   "source": [
    "But reading it as a numpy array it no longer has this data, it's simply a matrix.\n",
    "\n",
    "To understand why this important, lets look at what it would take to \"clip\" a raster to a specific state like Illinois"
   ]
  },
  {
   "cell_type": "markdown",
   "metadata": {
    "slideshow": {
     "slide_type": "slide"
    }
   },
   "source": [
    "### Clipping and Editing Rasters\n",
    "\n",
    "What if we only wanted a raster of Illinois and not the entire US? We would have to essentially \"mask\" the raster just we like would usually mask an array, but this time ommit everything outside of the Illinois border.\n",
    "\n",
    "The way this works:\n",
    "1. Find the Illinois coordinates\n",
    "2. Use the rasterio \"mask\" function to get back an edited array.\n",
    "    - NOTE: when we do this, the resulting array LOSES its geographic data, so we have to write it back with the geographic information.\n",
    "3. Re-embed geographic data\n",
    "4. Write out clipped raster\n",
    "5. Read it back in"
   ]
  },
  {
   "cell_type": "markdown",
   "metadata": {
    "slideshow": {
     "slide_type": "slide"
    }
   },
   "source": [
    "#### 1. Find the Illinois Coordinates\n",
    "Each geopandas geometry object contains the coordinates that the rasterio function wants."
   ]
  },
  {
   "cell_type": "code",
   "execution_count": null,
   "metadata": {
    "slideshow": {
     "slide_type": "-"
    }
   },
   "outputs": [],
   "source": [
    "import json\n",
    "\n",
    "json.loads(country_proj[country_proj.NAME==\"Illinois\"]['geometry'].to_json())['features'][0]['geometry']"
   ]
  },
  {
   "cell_type": "markdown",
   "metadata": {
    "slideshow": {
     "slide_type": "slide"
    }
   },
   "source": [
    "This is the data we need to load into the function, so we can make a fancy function (this is from [this documentation](https://automating-gis-processes.github.io/CSC18/lessons/L6/clipping-raster.html)):\n",
    "\n",
    "Essentially, this function takes a GeoDataFrame and extracts the coordinates it needs."
   ]
  },
  {
   "cell_type": "code",
   "execution_count": null,
   "metadata": {
    "slideshow": {
     "slide_type": "-"
    }
   },
   "outputs": [],
   "source": [
    "def getFeatures(gdf):\n",
    "    \"\"\"Function to parse features from GeoDataFrame in such a manner that rasterio wants them\"\"\"\n",
    "    import json\n",
    "    return [json.loads(gdf.to_json())['features'][0]['geometry']]\n",
    "\n",
    "IL_coords = getFeatures(country_proj[country_proj.NAME==\"Illinois\"])"
   ]
  },
  {
   "cell_type": "markdown",
   "metadata": {
    "slideshow": {
     "slide_type": "slide"
    }
   },
   "source": [
    "What they look like plotted:"
   ]
  },
  {
   "cell_type": "code",
   "execution_count": null,
   "metadata": {
    "slideshow": {
     "slide_type": "-"
    }
   },
   "outputs": [],
   "source": [
    "coords = np.array(IL_coords[0]['coordinates'][0])\n",
    "plt.plot(coords[:,0],coords[:,1],color='black')"
   ]
  },
  {
   "cell_type": "markdown",
   "metadata": {
    "slideshow": {
     "slide_type": "slide"
    }
   },
   "source": [
    "Rasterio has its own `mask` function that can help us with this. It takes the raster object as the first argument and our coordinates as the second:"
   ]
  },
  {
   "cell_type": "code",
   "execution_count": null,
   "metadata": {
    "slideshow": {
     "slide_type": "-"
    }
   },
   "outputs": [],
   "source": [
    "from rasterio.mask import mask\n",
    "\n",
    "img_out, img_transform = mask(raster,IL_coords)"
   ]
  },
  {
   "cell_type": "markdown",
   "metadata": {
    "slideshow": {
     "slide_type": "slide"
    }
   },
   "source": [
    "Plotted it looks like this:"
   ]
  },
  {
   "cell_type": "code",
   "execution_count": null,
   "metadata": {
    "slideshow": {
     "slide_type": "-"
    }
   },
   "outputs": [],
   "source": [
    "plt.imshow(img_out[0],cmap=\"Blues\")"
   ]
  },
  {
   "cell_type": "markdown",
   "metadata": {
    "slideshow": {
     "slide_type": "slide"
    }
   },
   "source": [
    "So now we have just Illinois. But notice now that the indices dont have anything to do with geo-coordinates. How do we get this info back?\n",
    "\n",
    "The second output of the function \"mask\" is the directions on how to translate them back:"
   ]
  },
  {
   "cell_type": "code",
   "execution_count": null,
   "metadata": {
    "slideshow": {
     "slide_type": "-"
    }
   },
   "outputs": [],
   "source": [
    "img_transform"
   ]
  },
  {
   "cell_type": "markdown",
   "metadata": {
    "slideshow": {
     "slide_type": "slide"
    }
   },
   "source": [
    "To make this a raster again, we can write it back as a raster while re-embedding the metadata"
   ]
  },
  {
   "cell_type": "code",
   "execution_count": null,
   "metadata": {
    "slideshow": {
     "slide_type": "-"
    }
   },
   "outputs": [],
   "source": [
    "out_meta = raster.meta.copy()\n",
    "\n",
    "out_meta['height'] = img_out.shape[1]\n",
    "out_meta['width'] = img_out.shape[2]\n",
    "out_meta['transform'] = img_transform\n",
    "\n",
    "with rasterio.open(\"./IL_PPT.tif\", \"w\", **out_meta) as dest:\n",
    "    dest.write(img_out)"
   ]
  },
  {
   "cell_type": "code",
   "execution_count": null,
   "metadata": {
    "slideshow": {
     "slide_type": "slide"
    }
   },
   "outputs": [],
   "source": [
    "IL_raster = rasterio.open(\"./IL_PPT.tif\")"
   ]
  },
  {
   "cell_type": "code",
   "execution_count": null,
   "metadata": {
    "slideshow": {
     "slide_type": "-"
    }
   },
   "outputs": [],
   "source": [
    "IL_raster.read(1)"
   ]
  },
  {
   "cell_type": "code",
   "execution_count": null,
   "metadata": {
    "slideshow": {
     "slide_type": "slide"
    }
   },
   "outputs": [],
   "source": [
    "from rasterio.plot import show\n",
    "\n",
    "fig, ax = plt.subplots(figsize=(15, 15))\n",
    "rasterio.plot.show(IL_raster, ax=ax,cmap=\"Blues\")\n",
    "country_proj.plot(ax=ax, facecolor='none', edgecolor='black')"
   ]
  },
  {
   "cell_type": "markdown",
   "metadata": {
    "slideshow": {
     "slide_type": "slide"
    }
   },
   "source": [
    "Nice!\n",
    "\n",
    "With this technique, a huge upside is that __we can edit rasters just like numpy arrays__ as long as we write the data back with the right metadata.\n",
    "\n",
    "For example, what if we wanted a raster of zeros and ones indicating if rainfall hits a certain threshhold, for example the state average?"
   ]
  },
  {
   "cell_type": "markdown",
   "metadata": {
    "slideshow": {
     "slide_type": "slide"
    }
   },
   "source": [
    "### Making a New Raster"
   ]
  },
  {
   "cell_type": "code",
   "execution_count": null,
   "metadata": {
    "slideshow": {
     "slide_type": "-"
    }
   },
   "outputs": [],
   "source": [
    "import pandas as pd\n",
    "IL_vals = pd.Series(IL_raster.read(1).flatten())\n",
    "\n",
    "IL_avg = IL_vals[IL_vals!=-9999].describe()['mean']"
   ]
  },
  {
   "cell_type": "code",
   "execution_count": null,
   "metadata": {
    "slideshow": {
     "slide_type": "-"
    }
   },
   "outputs": [],
   "source": [
    "IL_avg"
   ]
  },
  {
   "cell_type": "markdown",
   "metadata": {
    "slideshow": {
     "slide_type": "slide"
    }
   },
   "source": [
    "Do it like this: "
   ]
  },
  {
   "cell_type": "code",
   "execution_count": null,
   "metadata": {
    "slideshow": {
     "slide_type": "-"
    }
   },
   "outputs": [],
   "source": [
    "IL_r_vals = IL_raster.read(1)"
   ]
  },
  {
   "cell_type": "code",
   "execution_count": null,
   "metadata": {
    "slideshow": {
     "slide_type": "-"
    }
   },
   "outputs": [],
   "source": [
    "img_out = (IL_r_vals>IL_avg)[np.newaxis,:,:].astype(np.float32)"
   ]
  },
  {
   "cell_type": "markdown",
   "metadata": {
    "slideshow": {
     "slide_type": "slide"
    }
   },
   "source": [
    "__NOTE:__ A couple of things happened up there:\n",
    "1. We made a boolean array by coding \"True\" if the rainfall was above the average\n",
    "2. We added an axis so the array is three dimensions using \"np.newaxis\"; raster always are three dimensional arrays, the first dimension being the band and the second and third being the rows and the columns. We need to put a \"band\" dimension into any array before it can be written to raster.\n",
    "3. We converted the \"booleans\" to float32 to make it play nice with Rasterio"
   ]
  },
  {
   "cell_type": "markdown",
   "metadata": {
    "slideshow": {
     "slide_type": "slide"
    }
   },
   "source": [
    "Now change the metadata"
   ]
  },
  {
   "cell_type": "code",
   "execution_count": null,
   "metadata": {
    "slideshow": {
     "slide_type": "-"
    }
   },
   "outputs": [],
   "source": [
    "out_meta = IL_raster.meta.copy()\n",
    "\n",
    "out_meta['height'] = img_out.shape[1]\n",
    "out_meta['width'] = img_out.shape[2]\n",
    "out_meta['transform'] = img_transform\n",
    "\n",
    "with rasterio.open(\"./example.tif\", \"w\", **out_meta) as dest:\n",
    "    dest.write(img_out)"
   ]
  },
  {
   "cell_type": "code",
   "execution_count": null,
   "metadata": {
    "slideshow": {
     "slide_type": "slide"
    }
   },
   "outputs": [],
   "source": [
    "IL_raster = rasterio.open(\"./example.tif\")\n",
    "\n",
    "fig, ax = plt.subplots(figsize=(10, 10))\n",
    "rasterio.plot.show(IL_raster, ax=ax,cmap=\"Blues\")\n",
    "country_proj.plot(ax=ax, facecolor='none', edgecolor='black')\n",
    "plt.xlim(-1.03*10**7,-.97*10**7)\n",
    "plt.ylim(4.1*10**6,4.8*10**6)"
   ]
  },
  {
   "cell_type": "markdown",
   "metadata": {
    "slideshow": {
     "slide_type": "-"
    }
   },
   "source": [
    "### The above is an important skill for Homework 2"
   ]
  },
  {
   "cell_type": "markdown",
   "metadata": {
    "slideshow": {
     "slide_type": "slide"
    }
   },
   "source": [
    "## Step 3: Zonal Statistics\n",
    "\n",
    "The next step is doing some basic zonal statistics. Zonal statistics are one way to summarize a raster file using a vector file.\n",
    "\n",
    "Here we will find the average rainfall for that year for all the counties in Illinois.\n",
    "\n",
    "### Country-wide\n",
    "\n",
    "First, let's start with the whole country.\n",
    "\n",
    "The package \"rasterstats\" is very convenient for this. Its function \"zonal_stats\" takes two arguments:\n",
    "1. Shapefile path, polygon object, or geopandas dataframe\n",
    "2. Raster file path, or a numpy array if you supply \"transform\" to tell it coordinates."
   ]
  },
  {
   "cell_type": "code",
   "execution_count": null,
   "metadata": {
    "slideshow": {
     "slide_type": "slide"
    }
   },
   "outputs": [],
   "source": [
    "from rasterstats import zonal_stats\n",
    "\n",
    "zonal_stats(country_proj, \"./ppt_reproj.tif\")"
   ]
  },
  {
   "cell_type": "markdown",
   "metadata": {
    "slideshow": {
     "slide_type": "-"
    }
   },
   "source": [
    "Returns a list of dictionaries that can be made into a dataframe:"
   ]
  },
  {
   "cell_type": "code",
   "execution_count": null,
   "metadata": {
    "slideshow": {
     "slide_type": "slide"
    }
   },
   "outputs": [],
   "source": [
    "import pandas as pd\n",
    "rain_stats = pd.DataFrame(zonal_stats(country_proj, \"./ppt_reproj.tif\"))\n",
    "\n",
    "rain_stats.shape"
   ]
  },
  {
   "cell_type": "markdown",
   "metadata": {
    "slideshow": {
     "slide_type": "-"
    }
   },
   "source": [
    "Notice there are 49 rows, which is the same as `country_proj`:"
   ]
  },
  {
   "cell_type": "code",
   "execution_count": null,
   "metadata": {
    "slideshow": {
     "slide_type": "-"
    }
   },
   "outputs": [],
   "source": [
    "country_proj.shape"
   ]
  },
  {
   "cell_type": "markdown",
   "metadata": {
    "slideshow": {
     "slide_type": "slide"
    }
   },
   "source": [
    "This function calculates stats and returns the stats unlabeled but in the same order as the input shapefile.\n",
    "\n",
    "This means we just concatenate our dataframes:"
   ]
  },
  {
   "cell_type": "code",
   "execution_count": null,
   "metadata": {
    "slideshow": {
     "slide_type": "-"
    }
   },
   "outputs": [],
   "source": [
    "rain_stats.columns = [\"rain_\"+x for x in rain_stats.columns]\n",
    "\n",
    "# Note: you need to make the indices match first\n",
    "rain_stats.index = country_proj.index\n",
    "\n",
    "country_rain = pd.concat([country_proj,rain_stats],axis=1)"
   ]
  },
  {
   "cell_type": "code",
   "execution_count": null,
   "metadata": {
    "scrolled": true,
    "slideshow": {
     "slide_type": "slide"
    }
   },
   "outputs": [],
   "source": [
    "country_rain"
   ]
  },
  {
   "cell_type": "code",
   "execution_count": null,
   "metadata": {
    "slideshow": {
     "slide_type": "slide"
    }
   },
   "outputs": [],
   "source": [
    "f,a = plt.subplots(figsize=(20,6))\n",
    "\n",
    "country_rain.plot(column=\"rain_mean\",cmap=\"Blues\",legend=True,ax=a)"
   ]
  },
  {
   "cell_type": "markdown",
   "metadata": {
    "slideshow": {
     "slide_type": "slide"
    }
   },
   "source": [
    "### With counties"
   ]
  },
  {
   "cell_type": "code",
   "execution_count": null,
   "metadata": {},
   "outputs": [],
   "source": [
    "# Read in file\n",
    "counties = geopandas.read_file(\"../../Data/Images/cb_2017_us_county_500k/cb_2017_us_county_500k.shp\")\n",
    "\n",
    "# Reproject\n",
    "counties = counties.to_crs(country_proj.crs)\n",
    "\n",
    "counties.plot()"
   ]
  },
  {
   "cell_type": "markdown",
   "metadata": {
    "slideshow": {
     "slide_type": "slide"
    }
   },
   "source": [
    "Subset to Illinois:"
   ]
  },
  {
   "cell_type": "code",
   "execution_count": null,
   "metadata": {
    "slideshow": {
     "slide_type": "-"
    }
   },
   "outputs": [],
   "source": [
    "IL_counties = counties[counties['STATEFP'] == \"17\"]\n",
    "\n",
    "IL_counties.plot()"
   ]
  },
  {
   "cell_type": "markdown",
   "metadata": {
    "slideshow": {
     "slide_type": "slide"
    }
   },
   "source": [
    "Now do the rasterstats as before."
   ]
  },
  {
   "cell_type": "code",
   "execution_count": null,
   "metadata": {
    "slideshow": {
     "slide_type": "-"
    }
   },
   "outputs": [],
   "source": [
    "from rasterstats import zonal_stats\n",
    "\n",
    "zonal_stats(IL_counties, \"./ppt_reproj.tif\")"
   ]
  },
  {
   "cell_type": "code",
   "execution_count": null,
   "metadata": {
    "slideshow": {
     "slide_type": "slide"
    }
   },
   "outputs": [],
   "source": [
    "county_rain_stats = pd.DataFrame(zonal_stats(IL_counties, \"./ppt_reproj.tif\"))\n",
    "\n",
    "county_rain_stats.columns = [\"rain_\"+x for x in county_rain_stats.columns]\n",
    "\n",
    "# Note: you need to make the indices match first\n",
    "county_rain_stats.index = IL_counties.index\n",
    "\n",
    "IL_counties = pd.concat([IL_counties,county_rain_stats],axis=1)"
   ]
  },
  {
   "cell_type": "code",
   "execution_count": null,
   "metadata": {
    "slideshow": {
     "slide_type": "slide"
    }
   },
   "outputs": [],
   "source": [
    "f,a = plt.subplots(figsize=(20,6))\n",
    "\n",
    "IL_counties.plot(column=\"rain_min\",cmap=\"Blues\",legend=True,ax=a)"
   ]
  },
  {
   "cell_type": "markdown",
   "metadata": {
    "slideshow": {
     "slide_type": "-"
    }
   },
   "source": [
    "Simple as that!"
   ]
  }
 ],
 "metadata": {
  "celltoolbar": "Slideshow",
  "kernelspec": {
   "display_name": "Python 3",
   "language": "python",
   "name": "python3"
  },
  "language_info": {
   "codemirror_mode": {
    "name": "ipython",
    "version": 3
   },
   "file_extension": ".py",
   "mimetype": "text/x-python",
   "name": "python",
   "nbconvert_exporter": "python",
   "pygments_lexer": "ipython3",
   "version": "3.8.5"
  },
  "rise": {
   "height": "80%",
   "transition": "none"
  }
 },
 "nbformat": 4,
 "nbformat_minor": 4
}
