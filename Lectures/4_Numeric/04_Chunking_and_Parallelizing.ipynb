{
 "cells": [
  {
   "cell_type": "markdown",
   "metadata": {
    "slideshow": {
     "slide_type": "slide"
    }
   },
   "source": [
    "## Chunking and Parallelizing"
   ]
  },
  {
   "cell_type": "markdown",
   "metadata": {
    "slideshow": {
     "slide_type": "-"
    }
   },
   "source": [
    "__Chunking__ is useful for whenever a task can be accomplished one piece of data at a time. Even some applications that may look like they can't be done using chunking can be done if you think about the problem in the right way!\n",
    "\n",
    "Obvious example: __how would we do a summation using chunking?__"
   ]
  },
  {
   "cell_type": "code",
   "execution_count": 1,
   "metadata": {
    "slideshow": {
     "slide_type": "-"
    }
   },
   "outputs": [],
   "source": [
    "import pandas as pd"
   ]
  },
  {
   "cell_type": "markdown",
   "metadata": {
    "slideshow": {
     "slide_type": "slide"
    }
   },
   "source": [
    "By feeding the `read_csv` function the `chunksize` argument, it becomes an iterable reader:"
   ]
  },
  {
   "cell_type": "code",
   "execution_count": 2,
   "metadata": {
    "slideshow": {
     "slide_type": "-"
    }
   },
   "outputs": [
    {
     "data": {
      "text/plain": [
       "<pandas.io.parsers.TextFileReader at 0x1e8088b43a0>"
      ]
     },
     "execution_count": 2,
     "metadata": {},
     "output_type": "execute_result"
    }
   ],
   "source": [
    "chonk = pd.read_csv(\"./ex_big.csv\",chunksize=10000)\n",
    "\n",
    "chonk"
   ]
  },
  {
   "cell_type": "markdown",
   "metadata": {
    "slideshow": {
     "slide_type": "slide"
    }
   },
   "source": [
    "If we wanted to count the number of 1s, for example, we could do the following:"
   ]
  },
  {
   "cell_type": "code",
   "execution_count": 3,
   "metadata": {
    "slideshow": {
     "slide_type": "-"
    }
   },
   "outputs": [],
   "source": [
    "s = 0\n",
    "for i in chonk:\n",
    "    s += i[\"0\"].sum()"
   ]
  },
  {
   "cell_type": "code",
   "execution_count": 5,
   "metadata": {
    "slideshow": {
     "slide_type": "slide"
    }
   },
   "outputs": [
    {
     "data": {
      "text/plain": [
       "300000"
      ]
     },
     "execution_count": 5,
     "metadata": {},
     "output_type": "execute_result"
    }
   ],
   "source": [
    "s"
   ]
  },
  {
   "cell_type": "markdown",
   "metadata": {
    "slideshow": {
     "slide_type": "slide"
    }
   },
   "source": [
    "We can also do subsetting this way. Suppose that I wanted to select only cows that are breed \"AY.\" What I'll do is first write an empty dataframe with the column names, then cycle through the columns and writing out only the rows I want."
   ]
  },
  {
   "cell_type": "code",
   "execution_count": 6,
   "metadata": {
    "slideshow": {
     "slide_type": "-"
    }
   },
   "outputs": [],
   "source": [
    "file_dir = \"C:/Users/jhtchns2/Box/ACE 592 SAE Spring 2022/Class Examples/3_Numeric/naab_example.csv\"\n",
    "\n",
    "# Read in one row, take the columns\n",
    "cols = pd.read_csv(file_dir,nrows=1).columns\n",
    "\n",
    "# Write out an empty dataframe with just the column names\n",
    "pd.DataFrame(columns=cols).to_csv(\"./out.csv\",index=False)"
   ]
  },
  {
   "cell_type": "code",
   "execution_count": 7,
   "metadata": {
    "slideshow": {
     "slide_type": "slide"
    }
   },
   "outputs": [
    {
     "data": {
      "text/html": [
       "<div>\n",
       "<style scoped>\n",
       "    .dataframe tbody tr th:only-of-type {\n",
       "        vertical-align: middle;\n",
       "    }\n",
       "\n",
       "    .dataframe tbody tr th {\n",
       "        vertical-align: top;\n",
       "    }\n",
       "\n",
       "    .dataframe thead th {\n",
       "        text-align: right;\n",
       "    }\n",
       "</style>\n",
       "<table border=\"1\" class=\"dataframe\">\n",
       "  <thead>\n",
       "    <tr style=\"text-align: right;\">\n",
       "      <th></th>\n",
       "      <th>breed</th>\n",
       "      <th>country_of_origin</th>\n",
       "      <th>sire_code</th>\n",
       "      <th>eval_period</th>\n",
       "      <th>price</th>\n",
       "      <th>birth_date</th>\n",
       "      <th>pta_milk</th>\n",
       "      <th>pta_fat_lb</th>\n",
       "      <th>pta_scs</th>\n",
       "      <th>pta_protein_lb</th>\n",
       "      <th>pta_dpr</th>\n",
       "    </tr>\n",
       "  </thead>\n",
       "  <tbody>\n",
       "    <tr>\n",
       "      <th>0</th>\n",
       "      <td>AY</td>\n",
       "      <td>CAN</td>\n",
       "      <td>10092</td>\n",
       "      <td>2000-02</td>\n",
       "      <td>12.0</td>\n",
       "      <td>10/20/1991</td>\n",
       "      <td>1124.000000</td>\n",
       "      <td>41.000000</td>\n",
       "      <td>3.32</td>\n",
       "      <td>32.000000</td>\n",
       "      <td>NaN</td>\n",
       "    </tr>\n",
       "    <tr>\n",
       "      <th>1</th>\n",
       "      <td>AY</td>\n",
       "      <td>CAN</td>\n",
       "      <td>10094</td>\n",
       "      <td>2000-02</td>\n",
       "      <td>18.0</td>\n",
       "      <td>6/15/1992</td>\n",
       "      <td>1664.000000</td>\n",
       "      <td>44.000000</td>\n",
       "      <td>2.92</td>\n",
       "      <td>35.000000</td>\n",
       "      <td>NaN</td>\n",
       "    </tr>\n",
       "    <tr>\n",
       "      <th>2</th>\n",
       "      <td>AY</td>\n",
       "      <td>CAN</td>\n",
       "      <td>10181</td>\n",
       "      <td>2000-02</td>\n",
       "      <td>12.0</td>\n",
       "      <td>5/30/1992</td>\n",
       "      <td>939.000000</td>\n",
       "      <td>45.000000</td>\n",
       "      <td>2.87</td>\n",
       "      <td>27.000000</td>\n",
       "      <td>NaN</td>\n",
       "    </tr>\n",
       "    <tr>\n",
       "      <th>3</th>\n",
       "      <td>AY</td>\n",
       "      <td>CAN</td>\n",
       "      <td>10180</td>\n",
       "      <td>2000-02</td>\n",
       "      <td>12.0</td>\n",
       "      <td>6/25/1992</td>\n",
       "      <td>660.000000</td>\n",
       "      <td>30.000000</td>\n",
       "      <td>3.28</td>\n",
       "      <td>21.000000</td>\n",
       "      <td>NaN</td>\n",
       "    </tr>\n",
       "    <tr>\n",
       "      <th>4</th>\n",
       "      <td>AY</td>\n",
       "      <td>CAN</td>\n",
       "      <td>10095</td>\n",
       "      <td>2000-02</td>\n",
       "      <td>15.0</td>\n",
       "      <td>10/25/1992</td>\n",
       "      <td>259.000000</td>\n",
       "      <td>26.000000</td>\n",
       "      <td>3.18</td>\n",
       "      <td>6.000000</td>\n",
       "      <td>NaN</td>\n",
       "    </tr>\n",
       "    <tr>\n",
       "      <th>...</th>\n",
       "      <td>...</td>\n",
       "      <td>...</td>\n",
       "      <td>...</td>\n",
       "      <td>...</td>\n",
       "      <td>...</td>\n",
       "      <td>...</td>\n",
       "      <td>...</td>\n",
       "      <td>...</td>\n",
       "      <td>...</td>\n",
       "      <td>...</td>\n",
       "      <td>...</td>\n",
       "    </tr>\n",
       "    <tr>\n",
       "      <th>150073</th>\n",
       "      <td>AY</td>\n",
       "      <td>USA</td>\n",
       "      <td>10314</td>\n",
       "      <td>2020-08</td>\n",
       "      <td>10.0</td>\n",
       "      <td>1/1/1970</td>\n",
       "      <td>555.602388</td>\n",
       "      <td>38.508774</td>\n",
       "      <td>3.17</td>\n",
       "      <td>22.541588</td>\n",
       "      <td>0.960612</td>\n",
       "    </tr>\n",
       "    <tr>\n",
       "      <th>150074</th>\n",
       "      <td>AY</td>\n",
       "      <td>USA</td>\n",
       "      <td>10309</td>\n",
       "      <td>2020-08</td>\n",
       "      <td>25.0</td>\n",
       "      <td>1/1/1970</td>\n",
       "      <td>703.598665</td>\n",
       "      <td>26.786297</td>\n",
       "      <td>3.21</td>\n",
       "      <td>23.274243</td>\n",
       "      <td>-1.386327</td>\n",
       "    </tr>\n",
       "    <tr>\n",
       "      <th>150075</th>\n",
       "      <td>AY</td>\n",
       "      <td>USA</td>\n",
       "      <td>10319</td>\n",
       "      <td>2020-08</td>\n",
       "      <td>17.0</td>\n",
       "      <td>1/1/1970</td>\n",
       "      <td>734.370168</td>\n",
       "      <td>39.241429</td>\n",
       "      <td>3.36</td>\n",
       "      <td>34.264065</td>\n",
       "      <td>-1.896531</td>\n",
       "    </tr>\n",
       "    <tr>\n",
       "      <th>150076</th>\n",
       "      <td>AY</td>\n",
       "      <td>USA</td>\n",
       "      <td>1879</td>\n",
       "      <td>2020-08</td>\n",
       "      <td>NaN</td>\n",
       "      <td>1/1/1970</td>\n",
       "      <td>1318.296072</td>\n",
       "      <td>52.429216</td>\n",
       "      <td>3.12</td>\n",
       "      <td>38.659994</td>\n",
       "      <td>-0.059796</td>\n",
       "    </tr>\n",
       "    <tr>\n",
       "      <th>150077</th>\n",
       "      <td>AY</td>\n",
       "      <td>USA</td>\n",
       "      <td>10312</td>\n",
       "      <td>2020-08</td>\n",
       "      <td>15.0</td>\n",
       "      <td>1/1/1970</td>\n",
       "      <td>1271.406163</td>\n",
       "      <td>49.498597</td>\n",
       "      <td>3.23</td>\n",
       "      <td>45.253888</td>\n",
       "      <td>-1.488367</td>\n",
       "    </tr>\n",
       "  </tbody>\n",
       "</table>\n",
       "<p>3290 rows × 11 columns</p>\n",
       "</div>"
      ],
      "text/plain": [
       "       breed country_of_origin  sire_code eval_period  price  birth_date  \\\n",
       "0         AY               CAN      10092     2000-02   12.0  10/20/1991   \n",
       "1         AY               CAN      10094     2000-02   18.0   6/15/1992   \n",
       "2         AY               CAN      10181     2000-02   12.0   5/30/1992   \n",
       "3         AY               CAN      10180     2000-02   12.0   6/25/1992   \n",
       "4         AY               CAN      10095     2000-02   15.0  10/25/1992   \n",
       "...      ...               ...        ...         ...    ...         ...   \n",
       "150073    AY               USA      10314     2020-08   10.0    1/1/1970   \n",
       "150074    AY               USA      10309     2020-08   25.0    1/1/1970   \n",
       "150075    AY               USA      10319     2020-08   17.0    1/1/1970   \n",
       "150076    AY               USA       1879     2020-08    NaN    1/1/1970   \n",
       "150077    AY               USA      10312     2020-08   15.0    1/1/1970   \n",
       "\n",
       "           pta_milk  pta_fat_lb  pta_scs  pta_protein_lb   pta_dpr  \n",
       "0       1124.000000   41.000000     3.32       32.000000       NaN  \n",
       "1       1664.000000   44.000000     2.92       35.000000       NaN  \n",
       "2        939.000000   45.000000     2.87       27.000000       NaN  \n",
       "3        660.000000   30.000000     3.28       21.000000       NaN  \n",
       "4        259.000000   26.000000     3.18        6.000000       NaN  \n",
       "...             ...         ...      ...             ...       ...  \n",
       "150073   555.602388   38.508774     3.17       22.541588  0.960612  \n",
       "150074   703.598665   26.786297     3.21       23.274243 -1.386327  \n",
       "150075   734.370168   39.241429     3.36       34.264065 -1.896531  \n",
       "150076  1318.296072   52.429216     3.12       38.659994 -0.059796  \n",
       "150077  1271.406163   49.498597     3.23       45.253888 -1.488367  \n",
       "\n",
       "[3290 rows x 11 columns]"
      ]
     },
     "execution_count": 7,
     "metadata": {},
     "output_type": "execute_result"
    }
   ],
   "source": [
    "# Get that chonker running.\n",
    "chonker = pd.read_csv(file_dir,chunksize=10000)\n",
    "\n",
    "for i in chonker:\n",
    "    i[i['breed']==\"AY\"].to_csv(\"./out.csv\", mode='a', header=False)\n",
    "    \n",
    "pd.read_csv(\"out.csv\")"
   ]
  },
  {
   "cell_type": "markdown",
   "metadata": {
    "slideshow": {
     "slide_type": "-"
    }
   },
   "source": [
    "And nothing had to be run in memory!"
   ]
  },
  {
   "cell_type": "code",
   "execution_count": 11,
   "metadata": {
    "slideshow": {
     "slide_type": "subslide"
    }
   },
   "outputs": [],
   "source": [
    "import glob\n",
    "\n",
    "trade_files = glob.glob(\"P:trade_data/BACI_HS12_V202201/BACI_HS12_Y*.csv\")\n",
    "\n",
    "for F in trade_files:\n",
    "    chonker = pd.read_csv(F,chunksize=100000)\n",
    "    \n",
    "    # Read in one row, take the columns\n",
    "    cols = pd.read_csv(F,nrows=1).columns\n",
    "\n",
    "    # Write out an empty dataframe with just the column names\n",
    "    pd.DataFrame(columns=cols).to_csv(F.split(\".csv\")[0]+\"_m.csv\",index=False)\n",
    "    \n",
    "    for i in chonker:\n",
    "        i['v'] = pd.to_numeric(i['v'],errors=\"coerce\")\n",
    "        i['q'] = pd.to_numeric(i['q'],errors=\"coerce\")\n",
    "        i.to_csv(F.split(\".csv\")[0]+\"_m.csv\", mode='a', header=False)"
   ]
  },
  {
   "cell_type": "code",
   "execution_count": 12,
   "metadata": {},
   "outputs": [],
   "source": [
    "import os\n",
    "\n",
    "for F in trade_files:\n",
    "    os.replace(F.split(\".csv\")[0]+\"_m.csv\",F)"
   ]
  },
  {
   "cell_type": "code",
   "execution_count": null,
   "metadata": {},
   "outputs": [],
   "source": []
  },
  {
   "cell_type": "markdown",
   "metadata": {
    "slideshow": {
     "slide_type": "-"
    }
   },
   "source": [
    "#### One example of chunking that I needed to do for the homework."
   ]
  },
  {
   "cell_type": "markdown",
   "metadata": {
    "slideshow": {
     "slide_type": "slide"
    }
   },
   "source": [
    "Now how might we do chunking to calculate the mean and variance of these two arrays?"
   ]
  },
  {
   "cell_type": "code",
   "execution_count": null,
   "metadata": {
    "slideshow": {
     "slide_type": "-"
    }
   },
   "outputs": [],
   "source": [
    "import numpy as np\n",
    "sample = np.random.normal(loc=[4., 20.], scale=[1., 3.5],\n",
    "                           size=(100000000, 2))"
   ]
  },
  {
   "cell_type": "code",
   "execution_count": null,
   "metadata": {
    "slideshow": {
     "slide_type": "-"
    }
   },
   "outputs": [],
   "source": [
    "sample"
   ]
  },
  {
   "cell_type": "markdown",
   "metadata": {
    "slideshow": {
     "slide_type": "-"
    }
   },
   "source": [
    "__Try it!__"
   ]
  },
  {
   "cell_type": "markdown",
   "metadata": {
    "slideshow": {
     "slide_type": "slide"
    }
   },
   "source": [
    "Chunking applied to the cow data problem:\n",
    "\n",
    "- Doing the wide-to-long conversion on more than one row is not possible.\n",
    "- After that, needed to do a selective deletion of rows that fit our criteria.\n",
    "\n",
    "Seems like we can't use chunking because the duplicates might be spread out. If they are spread out through the file, we need to be able to delete duplicates using the whole data set.\n",
    "\n"
   ]
  },
  {
   "cell_type": "markdown",
   "metadata": {
    "slideshow": {
     "slide_type": "slide"
    }
   },
   "source": [
    "One way we can still use chunking:\n",
    "1. Read in data row by row, and convert each row and write to a .csv file.\n",
    "2. Read from this csv file in chunks. On each loop concatenate with the previous chunks and do the deletion on the bigger chunk. In essence, you can use chunking to delete as you go.\n",
    "    - Note: only works if you know that you can read all the data after deletion.\n",
    "    - To save on memory, you only need to read in the rows with the information you need.\n",
    "3. When doing the deletion, save the indices of the rows you did not delete.\n",
    "4. Finally, go chunk by chunk through the master file and only select the indices of the rows that did not get deleted.\n",
    "\n",
    "The code ends up looking like this:"
   ]
  },
  {
   "cell_type": "code",
   "execution_count": null,
   "metadata": {
    "slideshow": {
     "slide_type": "slide"
    }
   },
   "outputs": [],
   "source": [
    "chunks = pd.DataFrame()\n",
    "\n",
    "for chunk in pd.read_csv(\"big_file.csv\",\\\n",
    "                         chunksize=100000,\\\n",
    "                         usecols=['seg_id','segno','no_segs_test']):\n",
    "    chunks = pd.concat([chunk,chunks],axis=0)\n",
    "    chunks = delete_method(chunks)\n",
    "\n",
    "indices = chunks.index\n",
    "pd.DataFrame(columns=cols).to_csv(\"new_file.csv\",\\\n",
    "                                       index=False)\n",
    "\n",
    "\n",
    "\n",
    "for chunk in pd.read_csv(\"big_file.csv\",\\\n",
    "                         chunksize=100000):\n",
    "    chunk[chunk.index.isin(indices)].to_csv(\"new_file.csv\",\\\n",
    "                                            index=False,mode='a',header=False)"
   ]
  },
  {
   "cell_type": "markdown",
   "metadata": {
    "slideshow": {
     "slide_type": "-"
    }
   },
   "source": [
    "This stops us from having to read the whole data in memory at once."
   ]
  },
  {
   "cell_type": "markdown",
   "metadata": {
    "slideshow": {
     "slide_type": "slide"
    }
   },
   "source": [
    "### Threading and Parallelization\n",
    "\n",
    "Within one CPU, you can create multiple __threads__ to do tasks concurrently. Across all CPUs, you can create multiple __processes__ to do tasks in parallel.\n",
    "\n",
    "We will mostly be talking about __parallelization__ for computations, but threading is more applicable for less CPU intensive tasks.\n",
    "\n",
    "To parallelize code means to allow your computer cores to run independently but in parallel. This can be helpful when your task needs to be repeated for a list of inputs and collected at the end. __Programs can be parallelized only if each run can be done independently of the other__."
   ]
  },
  {
   "cell_type": "markdown",
   "metadata": {
    "slideshow": {
     "slide_type": "slide"
    }
   },
   "source": [
    "Parallel operations:\n",
    "- Bootstrapping a statistic.\n",
    "- Scraping a list of webpages.\n",
    "- Grid search.\n"
   ]
  },
  {
   "cell_type": "markdown",
   "metadata": {
    "slideshow": {
     "slide_type": "slide"
    }
   },
   "source": [
    "Non-parallel operations:\n",
    "- Evaluations of an optimization routine.\n",
    "- Rolling statistics.\n",
    "- The traveling salesman problem.\n",
    "\n",
    "__Why?__"
   ]
  },
  {
   "cell_type": "markdown",
   "metadata": {
    "slideshow": {
     "slide_type": "slide"
    }
   },
   "source": [
    "#### Types of parallelization\n",
    "- Synchronous: locks the main program until all processes are finished and returns it in the order it was given.\n",
    "    - Example: in a program where two cores need to square four numbers, the program stops until the cores finish all the numbers. They return the list in the order that they were given.\n",
    "- Asynchronous: does not lock the main program and returns it in the order it finishes.\n",
    "    - Example: in that same program, the program will not stop but the number return in the order that they were finished squaring."
   ]
  },
  {
   "cell_type": "code",
   "execution_count": null,
   "metadata": {
    "slideshow": {
     "slide_type": "slide"
    }
   },
   "outputs": [],
   "source": [
    "import multiprocess as mp\n",
    "\n",
    "def square(x):\n",
    "    return x*x\n",
    "\n",
    "import numpy as np\n",
    "X = np.arange(1,2000000,1)"
   ]
  },
  {
   "cell_type": "markdown",
   "metadata": {
    "slideshow": {
     "slide_type": "slide"
    }
   },
   "source": [
    "Non-parallelized"
   ]
  },
  {
   "cell_type": "code",
   "execution_count": null,
   "metadata": {
    "slideshow": {
     "slide_type": "-"
    }
   },
   "outputs": [],
   "source": [
    "[x*x for x in X]"
   ]
  },
  {
   "cell_type": "markdown",
   "metadata": {
    "slideshow": {
     "slide_type": "slide"
    }
   },
   "source": [
    "Threading"
   ]
  },
  {
   "cell_type": "code",
   "execution_count": null,
   "metadata": {
    "slideshow": {
     "slide_type": "-"
    }
   },
   "outputs": [],
   "source": [
    "from multiprocessing.pool import ThreadPool\n",
    "\n",
    "thread_pool = ThreadPool(5)\n",
    "res_thread = thread_pool.map(square,X)\n",
    "thread_pool.close()\n",
    "thread_pool.join()"
   ]
  },
  {
   "cell_type": "code",
   "execution_count": null,
   "metadata": {
    "slideshow": {
     "slide_type": "-"
    }
   },
   "outputs": [],
   "source": [
    "res_thread[:10]"
   ]
  },
  {
   "cell_type": "markdown",
   "metadata": {
    "slideshow": {
     "slide_type": "slide"
    }
   },
   "source": [
    "Synchronous Parallel"
   ]
  },
  {
   "cell_type": "code",
   "execution_count": null,
   "metadata": {
    "slideshow": {
     "slide_type": "-"
    }
   },
   "outputs": [],
   "source": [
    "pool = mp.Pool(8)\n",
    "res_synchr = pool.map(square,X)\n",
    "pool.close()\n",
    "pool.join()"
   ]
  },
  {
   "cell_type": "code",
   "execution_count": null,
   "metadata": {
    "scrolled": true,
    "slideshow": {
     "slide_type": "-"
    }
   },
   "outputs": [],
   "source": [
    "res_synchr[:10]"
   ]
  },
  {
   "cell_type": "markdown",
   "metadata": {
    "slideshow": {
     "slide_type": "slide"
    }
   },
   "source": [
    "Asynchronous Parallel"
   ]
  },
  {
   "cell_type": "code",
   "execution_count": null,
   "metadata": {
    "slideshow": {
     "slide_type": "-"
    }
   },
   "outputs": [],
   "source": [
    "pool = mp.Pool(4)\n",
    "res_async = pool.map_async(square,X)\n",
    "pool.close()\n",
    "pool.join()"
   ]
  },
  {
   "cell_type": "code",
   "execution_count": null,
   "metadata": {
    "slideshow": {
     "slide_type": "-"
    }
   },
   "outputs": [],
   "source": [
    "res_async.get()[:10]"
   ]
  },
  {
   "cell_type": "markdown",
   "metadata": {
    "slideshow": {
     "slide_type": "-"
    }
   },
   "source": [
    "It is good practice to call `pool.close()` and `pool.join()` in order to close out the processes when you are done."
   ]
  },
  {
   "cell_type": "markdown",
   "metadata": {
    "slideshow": {
     "slide_type": "-"
    }
   },
   "source": [
    "### What took the least amount of time?"
   ]
  },
  {
   "cell_type": "markdown",
   "metadata": {
    "slideshow": {
     "slide_type": "slide"
    }
   },
   "source": [
    "### Threading was the fastest. Why?\n",
    "\n",
    "- It didn't have to create processes, which needs a new python interpreter each time.\n",
    "- The major bottleneck was getting data, not the computation.\n",
    "\n",
    "Another advantage is that it could write to a common array `L`...\n",
    "\n",
    "This leads to a general principle with threading versus parallel:\n",
    "- If I/O bound problem, use threading.\n",
    "    - I/O bound means the most time-consuming part is reading or writing data.\n",
    "- If CPU bound problem, use parallel.\n",
    "    - CPU bound means the most time-consuming part is processing the data.\n",
    "    \n",
    "Squaring a number is not CPU intensive, and setting up new processes is expensive."
   ]
  },
  {
   "cell_type": "markdown",
   "metadata": {
    "slideshow": {
     "slide_type": "slide"
    }
   },
   "source": [
    "### A basic bootstrap using `multiprocessing`\n"
   ]
  },
  {
   "cell_type": "code",
   "execution_count": null,
   "metadata": {
    "slideshow": {
     "slide_type": "-"
    }
   },
   "outputs": [],
   "source": [
    "sample = np.random.normal(loc=[4., 20.], scale=[20., 40.5],\n",
    "                           size=(100000, 2))"
   ]
  },
  {
   "cell_type": "code",
   "execution_count": null,
   "metadata": {
    "slideshow": {
     "slide_type": "-"
    }
   },
   "outputs": [],
   "source": [
    "sample"
   ]
  },
  {
   "cell_type": "code",
   "execution_count": null,
   "metadata": {
    "slideshow": {
     "slide_type": "slide"
    }
   },
   "outputs": [],
   "source": [
    "ixs = np.random.randint(len(sample),size=len(sample))\n",
    "sample[ixs,:]"
   ]
  },
  {
   "cell_type": "code",
   "execution_count": null,
   "metadata": {
    "slideshow": {
     "slide_type": "slide"
    }
   },
   "outputs": [],
   "source": [
    "def bootstrap(i):\n",
    "    import numpy as np\n",
    "    ixs = np.random.randint(len(sample),size=len(sample))\n",
    "    df = sample[ixs,:]\n",
    "    return df.mean(axis=0)"
   ]
  },
  {
   "cell_type": "code",
   "execution_count": null,
   "metadata": {
    "slideshow": {
     "slide_type": "slide"
    }
   },
   "outputs": [],
   "source": [
    "pool = mp.Pool(4)\n",
    "res_synchr = pool.map(bootstrap,range(50))\n",
    "pool.close()\n",
    "pool.join()"
   ]
  },
  {
   "cell_type": "markdown",
   "metadata": {
    "slideshow": {
     "slide_type": "slide"
    }
   },
   "source": [
    "What happened here?\n",
    "\n",
    "Unfortunately, the new process it creates does not have any of the things in memory it had before. This demonstrates the difference between __threads__ and __processes__:\n",
    "\n",
    "- Threads use the same memory space on 1 CPU and are a __subset of a process__:\n",
    "    - Good if you want threads to share data.\n",
    "    - Bad if those objects are being modified at the same time, because each thread will __lock__ it until its done.\n",
    "- Processes carve out their own memory space to use on multiple CPUs. They are the __superset of threads__:\n",
    "    - Good if computation heavy and needs to edit each object.\n",
    "    - Bad if the operation is simple, because it takes up a lot of memory.\n",
    "\n",
    "Threading is best for lightweight but long activities. Processes are better for computation heavy things that need their own carved out memory."
   ]
  },
  {
   "cell_type": "markdown",
   "metadata": {
    "slideshow": {
     "slide_type": "slide"
    }
   },
   "source": [
    "Using threads, we can edit a common object:"
   ]
  },
  {
   "cell_type": "code",
   "execution_count": null,
   "metadata": {
    "slideshow": {
     "slide_type": "-"
    }
   },
   "outputs": [],
   "source": [
    "L = []\n",
    "def square_append(x):\n",
    "    L.append(x*x)\n",
    "    return x*x\n",
    "\n",
    "thread_pool = ThreadPool(5)\n",
    "res_thread = thread_pool.map(square_append,X)\n",
    "thread_pool.close()\n",
    "thread_pool.join()"
   ]
  },
  {
   "cell_type": "code",
   "execution_count": null,
   "metadata": {
    "slideshow": {
     "slide_type": "-"
    }
   },
   "outputs": [],
   "source": [
    "L[:10]"
   ]
  },
  {
   "cell_type": "markdown",
   "metadata": {
    "slideshow": {
     "slide_type": "slide"
    }
   },
   "source": [
    "So we can use bootstrapping with threads:"
   ]
  },
  {
   "cell_type": "code",
   "execution_count": null,
   "metadata": {
    "slideshow": {
     "slide_type": "-"
    }
   },
   "outputs": [],
   "source": [
    "thread_pool = ThreadPool(5)\n",
    "res_thread = thread_pool.map(bootstrap,range(50))\n",
    "thread_pool.close()\n",
    "thread_pool.join()"
   ]
  },
  {
   "cell_type": "code",
   "execution_count": null,
   "metadata": {
    "slideshow": {
     "slide_type": "-"
    }
   },
   "outputs": [],
   "source": [
    "np.concatenate(res_thread).reshape(50,2).mean(axis=0)"
   ]
  },
  {
   "cell_type": "markdown",
   "metadata": {
    "slideshow": {
     "slide_type": "slide"
    }
   },
   "source": [
    "If we want to use parallel processing, we need to edit the function a little bit."
   ]
  },
  {
   "cell_type": "code",
   "execution_count": null,
   "metadata": {
    "slideshow": {
     "slide_type": "-"
    }
   },
   "outputs": [],
   "source": [
    "import pandas as pd\n",
    "pd.DataFrame(sample).to_csv(\"sample.csv\",index=False)"
   ]
  },
  {
   "cell_type": "code",
   "execution_count": null,
   "metadata": {
    "slideshow": {
     "slide_type": "-"
    }
   },
   "outputs": [],
   "source": [
    "def bootstrap_read(i):\n",
    "    import numpy as np\n",
    "    import pandas as pd\n",
    "    ixs = np.random.randint(100000,size=100000)\n",
    "    df = pd.read_csv(\"sample.csv\").iloc[ixs,:]\n",
    "    return df.mean(axis=0).values"
   ]
  },
  {
   "cell_type": "code",
   "execution_count": null,
   "metadata": {
    "slideshow": {
     "slide_type": "slide"
    }
   },
   "outputs": [],
   "source": [
    "pool = mp.Pool(4)\n",
    "res_synchr = pool.map(bootstrap_read,range(500))\n",
    "pool.close()\n",
    "pool.join()"
   ]
  },
  {
   "cell_type": "code",
   "execution_count": null,
   "metadata": {
    "slideshow": {
     "slide_type": "slide"
    }
   },
   "outputs": [],
   "source": [
    "Res = np.concatenate(res_synchr)\n",
    "\n",
    "Res.reshape(500,2).mean(axis=0),\\\n",
    "Res.reshape(500,2).std(axis=0)"
   ]
  },
  {
   "cell_type": "markdown",
   "metadata": {
    "slideshow": {
     "slide_type": "slide"
    }
   },
   "source": [
    "Pretty fast! Lets benchmark against the sequential way"
   ]
  },
  {
   "cell_type": "code",
   "execution_count": null,
   "metadata": {
    "slideshow": {
     "slide_type": "-"
    }
   },
   "outputs": [],
   "source": [
    "def thread_bootstrap(reps,no_threads=4):\n",
    "    pool = ThreadPool(no_threads)\n",
    "    res_synchr = pool.map(bootstrap,range(reps))\n",
    "    pool.close()\n",
    "    pool.join()\n",
    "\n",
    "    res = np.concatenate(res_synchr).reshape(reps,2)\n",
    "    return res.mean(axis=0),res.std(axis=0)\n",
    "\n",
    "def parallel_bootstrap(reps,no_workers=4):\n",
    "    pool = mp.Pool(no_workers)\n",
    "    res_synchr = pool.map_async(bootstrap_read,range(reps))\n",
    "    pool.close()\n",
    "    pool.join()\n",
    "\n",
    "    res = np.concatenate(res_synchr.get()).reshape(reps,2)\n",
    "    return res.mean(axis=0),res.std(axis=0)\n",
    "    \n",
    "def sequential_bootstrap(reps):\n",
    "    res = []\n",
    "    for i in range(reps):\n",
    "        res += [bootstrap(i)]\n",
    "    res = np.concatenate(res).reshape(reps,2)\n",
    "    return res.mean(axis=0),res.std(axis=0)\n"
   ]
  },
  {
   "cell_type": "code",
   "execution_count": null,
   "metadata": {
    "slideshow": {
     "slide_type": "slide"
    }
   },
   "outputs": [],
   "source": [
    "%%time \n",
    "thread_bootstrap(50)"
   ]
  },
  {
   "cell_type": "code",
   "execution_count": null,
   "metadata": {
    "slideshow": {
     "slide_type": "-"
    }
   },
   "outputs": [],
   "source": [
    "%%time \n",
    "parallel_bootstrap(50)"
   ]
  },
  {
   "cell_type": "code",
   "execution_count": null,
   "metadata": {
    "slideshow": {
     "slide_type": "-"
    }
   },
   "outputs": [],
   "source": [
    "%%time \n",
    "sequential_bootstrap(50)"
   ]
  },
  {
   "cell_type": "code",
   "execution_count": null,
   "metadata": {
    "slideshow": {
     "slide_type": "slide"
    }
   },
   "outputs": [],
   "source": [
    "%%time \n",
    "thread_bootstrap(500)"
   ]
  },
  {
   "cell_type": "code",
   "execution_count": null,
   "metadata": {
    "slideshow": {
     "slide_type": "-"
    }
   },
   "outputs": [],
   "source": [
    "%%time\n",
    "parallel_bootstrap(500)"
   ]
  },
  {
   "cell_type": "code",
   "execution_count": null,
   "metadata": {
    "slideshow": {
     "slide_type": "-"
    }
   },
   "outputs": [],
   "source": [
    "%%time\n",
    "sequential_bootstrap(500)"
   ]
  },
  {
   "cell_type": "markdown",
   "metadata": {
    "slideshow": {
     "slide_type": "slide"
    }
   },
   "source": [
    "Let's look at how the speed gap changes with B, the number of bootstrap replications:"
   ]
  },
  {
   "cell_type": "code",
   "execution_count": null,
   "metadata": {
    "slideshow": {
     "slide_type": "-"
    }
   },
   "outputs": [],
   "source": [
    "import time\n",
    "\n",
    "def time_bootstrap(func,B=10):\n",
    "    start = time.time()\n",
    "    \n",
    "    func(B)\n",
    "    \n",
    "    end = time.time()\n",
    "    return end-start"
   ]
  },
  {
   "cell_type": "code",
   "execution_count": null,
   "metadata": {
    "slideshow": {
     "slide_type": "-"
    }
   },
   "outputs": [],
   "source": [
    "seq_boot = [time_bootstrap(sequential_bootstrap,B=x) for x in np.arange(10,2011,100)]\n",
    "thr_boot = [time_bootstrap(thread_bootstrap,B=x) for x in np.arange(10,2011,100)]\n",
    "par_boot = [time_bootstrap(parallel_bootstrap,B=x) for x in np.arange(10,2011,100)]"
   ]
  },
  {
   "cell_type": "code",
   "execution_count": null,
   "metadata": {
    "slideshow": {
     "slide_type": "slide"
    }
   },
   "outputs": [],
   "source": [
    "boot_res = pd.DataFrame([seq_boot,thr_boot,par_boot],\\\n",
    "                         index=[\"Sequential\",\"Threading\",\"Parallel\"],\\\n",
    "                         columns = np.arange(10,2011,100)).T\n",
    "\n",
    "boot_res.to_csv(\"bootstrap_bench.csv\")"
   ]
  },
  {
   "cell_type": "code",
   "execution_count": null,
   "metadata": {
    "slideshow": {
     "slide_type": "-"
    }
   },
   "outputs": [],
   "source": [
    "boot_res = pd.read_csv(\"bootstrap_bench.csv\").set_index(\"Unnamed: 0\")\n",
    "boot_res.plot()\n",
    "plt.xlabel(\"Replications\")\n",
    "plt.ylabel(\"Time\")"
   ]
  },
  {
   "cell_type": "markdown",
   "metadata": {
    "slideshow": {
     "slide_type": "slide"
    }
   },
   "source": [
    "In this case, parallel was not faster. Why?\n"
   ]
  },
  {
   "cell_type": "markdown",
   "metadata": {
    "slideshow": {
     "slide_type": "slide"
    }
   },
   "source": [
    "#### This is not a CPU bound task, therefore there is no advantage to parallel.\n",
    "\n",
    "It takes far more time to initialize the process than it does to run it (it's a very simple calculation). It takes quite a bit of time to reallocate memory.\n",
    "\n",
    "There is some small overhead to allocate workers, hence why at the lowest value sequential beats parallel.\n",
    "\n",
    "\n",
    "Were the computation to be CPU bound, doing a simple parallel operation in this case would be much better.\n",
    "\n",
    "However, the above seems to be heavily dependent on your computer."
   ]
  },
  {
   "cell_type": "markdown",
   "metadata": {
    "slideshow": {
     "slide_type": "slide"
    }
   },
   "source": [
    "Notice the speed improvements are better the more reps it has to do. Why is this?\n",
    "\n",
    "There will also be slight speed improvements if there are more workers allocated:"
   ]
  },
  {
   "cell_type": "code",
   "execution_count": null,
   "metadata": {
    "slideshow": {
     "slide_type": "-"
    }
   },
   "outputs": [],
   "source": [
    "%%time \n",
    "parallel_bootstrap(100,no_workers=8)"
   ]
  },
  {
   "cell_type": "code",
   "execution_count": null,
   "metadata": {
    "slideshow": {
     "slide_type": "-"
    }
   },
   "outputs": [],
   "source": [
    "%%time\n",
    "parallel_bootstrap(100,no_workers=4)"
   ]
  },
  {
   "cell_type": "markdown",
   "metadata": {
    "slideshow": {
     "slide_type": "slide"
    }
   },
   "source": [
    "In general, a good rule of thumb is to have as many workers as you CPUs to use.\n",
    "\n",
    "My computer has:"
   ]
  },
  {
   "cell_type": "code",
   "execution_count": null,
   "metadata": {
    "slideshow": {
     "slide_type": "-"
    }
   },
   "outputs": [],
   "source": [
    "mp.cpu_count()"
   ]
  },
  {
   "cell_type": "markdown",
   "metadata": {
    "slideshow": {
     "slide_type": "slide"
    }
   },
   "source": [
    "You can use more than your CPU count provided that they are not tasks that require a lot of memory or CPUs for each one. When you exceed your CPU count you split one cpu into multiple tasks.\n",
    "\n",
    "In this case we are reading in data, which is likely to be very memory intensive. Not in general a good idea to spawn too many of them in this case.\n",
    "\n",
    "__Note:__ If you don't close the pool you are using, you risk creating too many instances and running out of memory."
   ]
  },
  {
   "cell_type": "code",
   "execution_count": null,
   "metadata": {
    "slideshow": {
     "slide_type": "slide"
    }
   },
   "outputs": [],
   "source": [
    "%%time\n",
    "parallel_bootstrap(100,no_workers=20)"
   ]
  },
  {
   "cell_type": "markdown",
   "metadata": {
    "slideshow": {
     "slide_type": "-"
    }
   },
   "source": [
    "Notice that with too many workers you actually lose speed improvments"
   ]
  },
  {
   "cell_type": "code",
   "execution_count": null,
   "metadata": {
    "slideshow": {
     "slide_type": "slide"
    }
   },
   "outputs": [],
   "source": [
    "l = []\n",
    "for i in range(2,20):\n",
    "    start = time.time()\n",
    "    parallel_bootstrap(500,no_workers=i)\n",
    "    proc_time = time.time() - start\n",
    "    l+= [proc_time]"
   ]
  },
  {
   "cell_type": "code",
   "execution_count": null,
   "metadata": {
    "slideshow": {
     "slide_type": "-"
    }
   },
   "outputs": [],
   "source": [
    "pd.Series(l).to_csv(\"worker_bench.csv\",index=False)"
   ]
  },
  {
   "cell_type": "code",
   "execution_count": 2,
   "metadata": {
    "slideshow": {
     "slide_type": "slide"
    }
   },
   "outputs": [
    {
     "data": {
      "text/plain": [
       "<matplotlib.legend.Legend at 0x189da973df0>"
      ]
     },
     "execution_count": 2,
     "metadata": {},
     "output_type": "execute_result"
    },
    {
     "data": {
      "image/png": "[encoded data removed]",
      "text/plain": [
       "<Figure size 432x288 with 1 Axes>"
      ]
     },
     "metadata": {
      "needs_background": "light"
     },
     "output_type": "display_data"
    }
   ],
   "source": [
    "import matplotlib.pyplot as plt\n",
    "\n",
    "l = pd.read_csv(\"worker_bench.csv\")[\"0\"]\n",
    "\n",
    "plt.plot(list(range(2,20)),l,label=\"Parallel\")\n",
    "plt.xlabel(\"Number of Workers\")\n",
    "plt.ylabel(\"Time to do 500 reps\")\n",
    "plt.axvline(8,color='black',ls='--',label=\"Number of Cores\")\n",
    "plt.axhline(24.10096502304077,color=\"C3\",label=\"Sequential\")\n",
    "plt.ylim(5,30)\n",
    "plt.legend()"
   ]
  },
  {
   "cell_type": "markdown",
   "metadata": {
    "slideshow": {
     "slide_type": "slide"
    }
   },
   "source": [
    "Depending on the run, more workers does not always equal good performance. In general, always start with allocating 1 core to 1 worker.\n",
    "\n",
    "For most problems, simply setting workers equal to your CPUs is a massive speed improvement."
   ]
  }
 ],
 "metadata": {
  "celltoolbar": "Slideshow",
  "kernelspec": {
   "display_name": "Python 3",
   "language": "python",
   "name": "python3"
  },
  "language_info": {
   "codemirror_mode": {
    "name": "ipython",
    "version": 3
   },
   "file_extension": ".py",
   "mimetype": "text/x-python",
   "name": "python",
   "nbconvert_exporter": "python",
   "pygments_lexer": "ipython3",
   "version": "3.8.5"
  },
  "rise": {
   "height": "80%",
   "transition": "none"
  }
 },
 "nbformat": 4,
 "nbformat_minor": 4
}
